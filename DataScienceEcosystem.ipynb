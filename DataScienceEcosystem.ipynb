{
 "cells": [
  {
   "cell_type": "markdown",
   "id": "3b7d3bfd-a207-4317-a972-8da8677ba6cd",
   "metadata": {},
   "source": [
    "# Data Science Tools and Ecosystem"
   ]
  },
  {
   "cell_type": "markdown",
   "id": "7b15bd12-ec5a-423b-a79e-67f647f09bc2",
   "metadata": {},
   "source": [
    "## In this notebook, Data Science Tools and Ecosystem are summarized."
   ]
  },
  {
   "cell_type": "markdown",
   "id": "b17ea7a0-c853-4193-a554-694370b3f53f",
   "metadata": {},
   "source": [
    "## **Objectives:**\n",
    "#### • Learn about the most popular languages for Data Science\n",
    "#### • Learn about libreries for Data Sciencie\n",
    "#### • Learn some basic expressions in Python"
   ]
  },
  {
   "cell_type": "markdown",
   "id": "0d47f4d5-c0ba-4352-9524-aeaec59a0973",
   "metadata": {},
   "source": [
    "## Some of the popular languages that Data Scientists use are:\n",
    "#### 1. R\n",
    "#### 2. Python\n",
    "#### 3. Julia\n",
    "#### 4. SQL"
   ]
  },
  {
   "cell_type": "markdown",
   "id": "95b7d9c5-09fb-4888-bbd7-0f98e6e6ae20",
   "metadata": {},
   "source": [
    "## Some of the commonly used libraries used by Data Scientists include:\n",
    "#### 1) For Python: Numpy, Pandas, Matplotlib, Scikit-learn, Scipy\n",
    "#### 2) For R: ggplot2, dplyr, tidyr, caret\n",
    "#### 3) For Julia: DataFrames.jl, Plots.jl, Gadfly.jl, Flux.jl, Knet.jl\n"
   ]
  },
  {
   "cell_type": "markdown",
   "id": "9f773eed-d9b1-4c87-bac6-d871064eb996",
   "metadata": {},
   "source": [
    "| Data Science Tools |\r\n",
    "|-------------------|\r\n",
    "| Jupyter Notebook  |\r\n",
    "| RStudio           |\r\n",
    "| Spyder          |s|"
   ]
  },
  {
   "cell_type": "markdown",
   "id": "2825ca93-4af2-4729-8eec-e02af589768c",
   "metadata": {},
   "source": [
    "### Below are a few examples of evaluating arithmetic expressions in Python"
   ]
  },
  {
   "cell_type": "code",
   "execution_count": 21,
   "id": "0702b5d7-e110-4c65-8086-9a41a2672b89",
   "metadata": {},
   "outputs": [
    {
     "data": {
      "text/plain": [
       "17"
      ]
     },
     "execution_count": 21,
     "metadata": {},
     "output_type": "execute_result"
    }
   ],
   "source": [
    "#This a simple arithmetic expression to mutiply\n",
    "(3*4)+5"
   ]
  },
  {
   "cell_type": "code",
   "execution_count": 25,
   "id": "6503a9e7-c683-4e0d-b1b1-99dd3b5b7b69",
   "metadata": {},
   "outputs": [
    {
     "data": {
      "text/plain": [
       "3.3333333333333335"
      ]
     },
     "execution_count": 25,
     "metadata": {},
     "output_type": "execute_result"
    }
   ],
   "source": [
    "#This will convert 200 minutes to hours by diving by 60\n",
    "200/60"
   ]
  },
  {
   "cell_type": "markdown",
   "id": "eb8acf24-f3d3-461a-a5ad-e040a425eaf2",
   "metadata": {},
   "source": [
    "## Author\n",
    "Boris Attilio Ruiz Anaya"
   ]
  },
  {
   "cell_type": "code",
   "execution_count": null,
   "id": "2df35cdb-5117-4dca-882d-78f6d5376a68",
   "metadata": {},
   "outputs": [],
   "source": []
  }
 ],
 "metadata": {
  "kernelspec": {
   "display_name": "Python 3 (ipykernel)",
   "language": "python",
   "name": "python3"
  },
  "language_info": {
   "codemirror_mode": {
    "name": "ipython",
    "version": 3
   },
   "file_extension": ".py",
   "mimetype": "text/x-python",
   "name": "python",
   "nbconvert_exporter": "python",
   "pygments_lexer": "ipython3",
   "version": "3.12.4"
  }
 },
 "nbformat": 4,
 "nbformat_minor": 5
}
